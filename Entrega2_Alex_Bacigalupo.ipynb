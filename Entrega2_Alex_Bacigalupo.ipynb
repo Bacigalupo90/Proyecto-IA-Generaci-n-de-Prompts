{
  "nbformat": 4,
  "nbformat_minor": 0,
  "metadata": {
    "colab": {
      "provenance": []
    },
    "kernelspec": {
      "name": "python3",
      "display_name": "Python 3"
    },
    "language_info": {
      "name": "python"
    }
  },
  "cells": [
    {
      "cell_type": "code",
      "execution_count": 1,
      "metadata": {
        "id": "IReUfq5Ta6ep"
      },
      "outputs": [],
      "source": [
        "# Librerias\n",
        "\n",
        "import google.generativeai as genai\n",
        "from IPython.display import display, Markdown\n",
        "import getpass\n",
        "import json"
      ]
    },
    {
      "cell_type": "code",
      "source": [
        "# Configuración de la API y modelo de IA\n",
        "\n",
        "from google.colab import userdata\n",
        "\n",
        "API_KEY = userdata.get('GOOGLE_API_KEY')\n",
        "genai.configure(api_key=API_KEY)\n",
        "\n",
        "model = genai.GenerativeModel('gemini-1.5-flash')\n",
        "\n"
      ],
      "metadata": {
        "id": "i26fbzRWbWv0"
      },
      "execution_count": 3,
      "outputs": []
    },
    {
      "cell_type": "code",
      "source": [
        "# Base de datos de ejemplo contexto para el modelo IA de Karate Kyoukushin\n",
        "\n",
        "kyokushin_data = {\n",
        "    \"blanco\": {\n",
        "        \"terminologia\": \"Osu (Saludo y respeto), Kyokushin (Verdad máxima), Sensei (Instructor), Sempai (Estudiante mayor).\",\n",
        "        \"tecnicas_basicas\": \"Zenkutsu Dachi (Postura frontal), Gedan Barai (Bloqueo bajo), Oi Tsuki (Puño de avance), Mae Geri (Patada frontal).\",\n",
        "        \"katas\": \"Taikyoku Sono Ichi.\",\n",
        "        \"requisitos\": \"Para obtener el cinturón naranjo, debes demostrar dominio de las posturas básicas, los bloqueos, los puños fundamentales, la patada Mae Geri y la Kata Taikyoku Sono Ichi. También se evalúa la comprensión de la terminología básica.\"\n",
        "    },\n",
        "    \"naranjo\": {\n",
        "        \"terminologia\": \"Chudan (Zona media), Jodan (Zona alta), Gedan (Zona baja), Yame (Parar).\",\n",
        "        \"tecnicas_basicas\": \"Seiken Jodan Gyaku Tsuki (Puño reverso a la cara), Shuto Gammen Uchi (Golpe de mano de cuchillo a la cara), Hiza Geri (Rodillazo).\",\n",
        "        \"katas\": \"Taikyoku Sono Ichi, Ni.\",\n",
        "        \"requisitos\": \"Para obtener el cinturón azul, se requiere dominar las técnicas de los cinturones blanco y naranjo. Se evalúa el Kihon, las Katas Taikyoku Sono Ichi y Ni, y Jiyu Kumite (combate libre) con control y espíritu de lucha.\"\n",
        "    },\n",
        "    \"azul\": {\n",
        "        \"terminologia\": \"Kamae (Postura de guardia), Shihan (Maestro), Ki (Energía interior).\",\n",
        "        \"tecnicas_basicas\": \"Tate Tsuki (Puño vertical), Ura Mawashi Geri (Patada de giro inversa), Jodan Mawashi Geri (Patada circular alta).\",\n",
        "        \"katas\": \"Taikyoku Sono Ichi, Ni, San.\",\n",
        "        \"requisitos\": \"Para obtener el cinturón amarillo, se debe dominar el Kihon avanzado, las Katas Taikyoku de Ichi a Tres y Jiyu Kumite con mayor intensidad y un mejor control de las técnicas.\"\n",
        "    },\n",
        "    \"amarillo\": {\n",
        "        \"terminologia\": \"Kiai (Grito de energía), Renraku (Combinación), Kumite (Combate).\",\n",
        "        \"tecnicas_basicas\": \"Mawashi Tsuki (Puño circular), Ushiro Mawashi Geri (Patada circular hacia atrás).\",\n",
        "        \"katas\": \"Pinan Sono Ichi, Ni.\",\n",
        "        \"requisitos\": \"Para obtener el cinturón verde, se espera el dominio de las Katas Taikyoku de Ichi a Tres, las Katas Pinan de Ichi a Dos, y el examen de graduación consiste en un Kihon más complejo, combinaciones (Renraku), y Jiyu Kumite contra varios oponentes, demostrando resistencia y espíritu.\"\n",
        "    },\n",
        "    \"verde\": {\n",
        "        \"terminologia\": \"Naka (Interior), Soto (Exterior), Jyu Kumite (Combate libre).\",\n",
        "        \"tecnicas_basicas\": \"Morote Tsuki (Puño doble), Oroshi Uchi Ude Uke (Bloqueo circular con el antebrazo), Kakato Geri (Patada con el talón).\",\n",
        "        \"katas\": \"Pinan Sono Ichi, Ni, San.\",\n",
        "        \"requisitos\": \"Para obtener el cinturón marrón, debes dominar las Katas Taikyoku de Ichi a Tres y las Katas Pinan de Ichi a Tres. El examen de graduación incluye un Kihon muy avanzado y una práctica de Kumite más rigurosa y con más rondas.\"\n",
        "    }\n",
        "}"
      ],
      "metadata": {
        "id": "jad8rc2tcjBz"
      },
      "execution_count": 17,
      "outputs": []
    },
    {
      "cell_type": "code",
      "source": [
        "def get_response_from_gemini(user_query, user_belt):\n",
        "    \"\"\"\n",
        "    Función que genera una respuesta utilizando un prompt optimizado.\n",
        "\n",
        "    Args:\n",
        "        user_query (str): La pregunta del usuario.\n",
        "        user_belt (str): El color del cinturón del usuario.\n",
        "\n",
        "    Returns:\n",
        "        str: La respuesta generada por la IA.\n",
        "    \"\"\"\n",
        "\n",
        "    context_data = kyokushin_data.get(user_belt.lower(), {})\n",
        "\n",
        "    if not context_data:\n",
        "        return \"Lo siento, la información para ese cinturón no está disponible en mi base de datos de entrenamiento.\"\n",
        "\n",
        "\n",
        "    prompt = f\"\"\"\n",
        "    Eres un asistente personal de karate Kyokushin para estudiantes principiantes.\n",
        "    Actúa como un gran maestro servicial y conocedor.\n",
        "    Responde a la pregunta del usuario de forma concisa, amigable y clara, utilizando los datos proporcionados a continuación.\n",
        "    Si la respuesta a la pregunta del usuario no se encuentra en el contexto, simplemente indica que no tienes esa información.\n",
        "    NO intentes inventar la respuesta.\n",
        "    Tienes el conocimiento de todos los cinturones de Karate Kyokushin y sus respectivas terminologías y técnicas básicas y como obtener cada uno de ellos.\n",
        "\n",
        "    --- Contexto del Cinturón '{user_belt.capitalize()}' ---\n",
        "    {json.dumps(context_data, indent=2)}\n",
        "\n",
        "    --- Pregunta del Usuario ---\n",
        "    {user_query}\n",
        "\n",
        "    Respuesta:\n",
        "    \"\"\"\n",
        "\n",
        "    try:\n",
        "\n",
        "        response = model.generate_content(prompt)\n",
        "        return response.text\n",
        "    except Exception as e:\n",
        "        return f\"Ocurrió un error al contactar con la IA: {e}\"\n"
      ],
      "metadata": {
        "id": "5XHRKpJgdLXJ"
      },
      "execution_count": 18,
      "outputs": []
    },
    {
      "cell_type": "code",
      "source": [
        "# Interacción del Usuario\n",
        "\n",
        "if __name__ == \"__main__\":\n",
        "    print(\"--- Asistente Personal de Karate Kyokushin (POC) ---\")\n",
        "    print(\"Escribe 'salir' para terminar la conversación.\")\n",
        "\n",
        "    while True:\n",
        "        user_belt_input = input(\"\\n¿Cuál es tu cinturón (blanco, naranjo, azul, amarillo, verde)? \")\n",
        "        if user_belt_input.lower() == 'salir':\n",
        "            print(\"¡Osu! ¡Hasta la próxima!\")\n",
        "            break\n",
        "\n",
        "        user_question_input = input(\"¿En qué puedo ayudarte? \")\n",
        "        if user_question_input.lower() == 'salir':\n",
        "            print(\"¡Osu! ¡Hasta la próxima!\")\n",
        "            break\n",
        "\n",
        "        print(\"\\nConsultando al Sempai...\")\n",
        "        response = get_response_from_gemini(user_question_input, user_belt_input)\n",
        "\n",
        "\n",
        "        display(Markdown(\"---\"))\n",
        "        display(Markdown(f\"**Respuesta:** {response}\"))\n"
      ],
      "metadata": {
        "colab": {
          "base_uri": "https://localhost:8080/",
          "height": 409
        },
        "id": "g3ICkTl5eUSh",
        "outputId": "6d007a33-02f0-4d24-aca2-3b1a64e610ad"
      },
      "execution_count": 19,
      "outputs": [
        {
          "output_type": "stream",
          "name": "stdout",
          "text": [
            "--- Asistente Personal de Karate Kyokushin (POC) ---\n",
            "Escribe 'salir' para terminar la conversación.\n",
            "\n",
            "¿Cuál es tu cinturón (blanco, naranjo, azul, amarillo, verde)? naranjo\n",
            "¿En qué puedo ayudarte? como obtengo el cinturon azul ?\n",
            "\n",
            "Consultando al Sempai...\n"
          ]
        },
        {
          "output_type": "display_data",
          "data": {
            "text/plain": [
              "<IPython.core.display.Markdown object>"
            ],
            "text/markdown": "---"
          },
          "metadata": {}
        },
        {
          "output_type": "display_data",
          "data": {
            "text/plain": [
              "<IPython.core.display.Markdown object>"
            ],
            "text/markdown": "**Respuesta:** Para obtener el cinturón azul, debes dominar las técnicas de los cinturones blanco y naranja.  Esto incluye el Kihon (técnicas básicas), las Katas Taikyoku Sono Ichi y Ni, y demostrar control y espíritu de lucha en el Jiyu Kumite (combate libre).\n"
          },
          "metadata": {}
        },
        {
          "output_type": "stream",
          "name": "stdout",
          "text": [
            "\n",
            "¿Cuál es tu cinturón (blanco, naranjo, azul, amarillo, verde)? blanco\n",
            "¿En qué puedo ayudarte? que ejercicios debo hacer comenzar ?\n",
            "\n",
            "Consultando al Sempai...\n"
          ]
        },
        {
          "output_type": "display_data",
          "data": {
            "text/plain": [
              "<IPython.core.display.Markdown object>"
            ],
            "text/markdown": "---"
          },
          "metadata": {}
        },
        {
          "output_type": "display_data",
          "data": {
            "text/plain": [
              "<IPython.core.display.Markdown object>"
            ],
            "text/markdown": "**Respuesta:** ¡Hola!  Para comenzar tu camino en Kyokushin, te recomiendo practicar las posturas básicas como el *Zenkutsu Dachi*, los bloqueos como el *Gedan Barai*, los puños como el *Oi Tsuki* y la patada frontal *Mae Geri*.  También deberías enfocarte en aprender la kata *Taikyoku Sono Ichi*.  Recuerda practicar con constancia y respeto, ¡Osu!\n"
          },
          "metadata": {}
        },
        {
          "output_type": "stream",
          "name": "stdout",
          "text": [
            "\n",
            "¿Cuál es tu cinturón (blanco, naranjo, azul, amarillo, verde)? salir\n",
            "¡Osu! ¡Hasta la próxima!\n"
          ]
        }
      ]
    }
  ]
}